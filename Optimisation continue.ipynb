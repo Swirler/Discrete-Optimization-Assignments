{
 "cells": [
  {
   "cell_type": "code",
   "execution_count": 1,
   "metadata": {},
   "outputs": [],
   "source": [
    "from main import *"
   ]
  },
  {
   "cell_type": "code",
   "execution_count": 2,
   "metadata": {},
   "outputs": [],
   "source": [
    "%matplotlib inline\n",
    "import matplotlib.pyplot as plt"
   ]
  },
  {
   "cell_type": "markdown",
   "metadata": {},
   "source": [
    "# Optimisation sans contraintes"
   ]
  },
  {
   "cell_type": "markdown",
   "metadata": {},
   "source": [
    "## Méthode du gradient à pas constant"
   ]
  },
  {
   "cell_type": "code",
   "execution_count": 3,
   "metadata": {},
   "outputs": [
    {
     "name": "stdout",
     "output_type": "stream",
     "text": [
      "tps écoulé (gradient_rho_constant): 0.03553509712219238\n",
      "[-0.68823504  0.15332241 -0.61439915  0.48960858 -0.04326259]\n"
     ]
    }
   ],
   "source": [
    "A,B,S = definition_constantes()\n",
    "d=B.shape[0]\n",
    "x0 = np.ones((d,))\n",
    "\n",
    "debut = time.time()\n",
    "GradResults=gradient_rho_constant(f1,df1,x0,rho=0.01,tol=1e-6,args=(B,S))\n",
    "tps_ecoule = time.time()-debut\n",
    "print('tps écoulé (gradient_rho_constant):',tps_ecoule)\n",
    "print(GradResults['minimum'])"
   ]
  },
  {
   "cell_type": "code",
   "execution_count": 4,
   "metadata": {},
   "outputs": [
    {
     "data": {
      "text/plain": [
       "True"
      ]
     },
     "execution_count": 4,
     "metadata": {},
     "output_type": "execute_result"
    }
   ],
   "source": [
    "GradResults['converged']"
   ]
  },
  {
   "cell_type": "markdown",
   "metadata": {},
   "source": [
    "On essaie des valeurs de $\\rho$ dans la grille [1, 0.1, 0.01, 0.001, 0.0001] pour vérifier les convergences, et on comparera le minimum de f1 pour les valeurs de $\\rho$ résultant en une convergence."
   ]
  },
  {
   "cell_type": "code",
   "execution_count": 5,
   "metadata": {},
   "outputs": [
    {
     "name": "stderr",
     "output_type": "stream",
     "text": [
      "/Users/mehdiboubnan/Documents/3A/Git Project Teams/Optimization-Team/Optimization/Codes/main.py:57: RuntimeWarning: invalid value encountered in subtract\n",
      "  xnp1=xn-rho*dfx             # nouveau point courant (x_{n+1})\n"
     ]
    },
    {
     "name": "stdout",
     "output_type": "stream",
     "text": [
      "No convergence for rho =  1\n",
      "No convergence for rho =  0.1\n",
      "No convergence for rho =  0.0001\n"
     ]
    },
    {
     "data": {
      "image/png": "[encoded data removed]",
      "text/plain": [
       "<Figure size 432x288 with 1 Axes>"
      ]
     },
     "metadata": {
      "needs_background": "light"
     },
     "output_type": "display_data"
    }
   ],
   "source": [
    "rho_grid = [1, 0.1, 0.01, 0.001, 0.0001]\n",
    "rho_convergence = []\n",
    "f_minimum_results = []\n",
    "rho_no_convergence = []\n",
    "for rho in rho_grid:\n",
    "    GradResults = gradient_rho_constant(f1,df1,x0,rho=rho,tol=1e-6,args=(B,S))\n",
    "    if GradResults['converged']:\n",
    "        rho_convergence.append(rho)\n",
    "        f_minimum_results.append(GradResults['f_minimum'])\n",
    "        plt.plot(range(GradResults[\"iterations\"] + 1), GradResults[\"f_values\"], label = str(rho))\n",
    "        \n",
    "    else:\n",
    "        print('No convergence for rho = ', rho)\n",
    "        rho_no_convergence.append(rho)\n",
    "        \n",
    "plt.legend() \n",
    "# plt.ylim((-10, 120))\n",
    "plt.show()"
   ]
  },
  {
   "cell_type": "markdown",
   "metadata": {},
   "source": [
    "On a des convergences stables pour $\\rho \\in \\{0.01, 0.001 \\}$, $\\rho = 0.01$ donne une convergence plus rapide, ce qui est normal vu que c'est un pas d'apprentissage plus grand que $0.001$ et qui n'entraîne pas de divergence de la fonction autour du minimum."
   ]
  },
  {
   "cell_type": "markdown",
   "metadata": {},
   "source": [
    "## Méthode du gradient à pas adptatif"
   ]
  },
  {
   "cell_type": "markdown",
   "metadata": {},
   "source": [
    "Le choix d'un pas constant peut s'avérer contraignant, en effet il faut choisir un pas qui résulte en une bonne exploration de l'espace de notre variable sans pour autant diverger du minimum. On pourra par exemple augmenter le pas lorsque $f(x_{n+1}) \\le f(x_n)$ et le diminuer sinon."
   ]
  },
  {
   "cell_type": "code",
   "execution_count": 6,
   "metadata": {},
   "outputs": [],
   "source": [
    "def gradient_rho_adaptatif(fun, fun_der, U0, rho, tol,args):\n",
    "\n",
    "    itermax=10000  # nombre maximal d'itérations \n",
    "    xn=U0\n",
    "    f=fun(xn,*args) # point initial de l'algorithme\n",
    "    it=0         # compteur pour les itérations\n",
    "    converged = False\n",
    "    x_values = [xn]\n",
    "    f_values = [f]\n",
    "    \n",
    "    while (~converged & (it < itermax)):\n",
    "        it=it+1\n",
    "        dfx=fun_der(xn,*args)       # valeur courante de la fonction à minimiser\n",
    "        xnp1=xn-rho*dfx             # nouveau point courant (x_{n+1})\n",
    "        fnp1=fun(xnp1,*args)\n",
    "        if fnp1 < fun(xn,*args):\n",
    "            rho = rho*2\n",
    "            \n",
    "        else:\n",
    "            rho = rho/2\n",
    "            \n",
    "        if abs(fnp1 - f) < tol:\n",
    "            converged = True\n",
    "        xn=xnp1; f=fnp1;           # xnp1 : nouveau point courant\n",
    "        x_values.append(xn)\n",
    "        f_values.append(f)\n",
    "\n",
    "    GradResults = {\n",
    "            'initial_x':U0,\n",
    "            'minimum':xnp1,\n",
    "            'f_minimum':fnp1,\n",
    "            'iterations':it,\n",
    "            'converged':converged,\n",
    "            'x_values':x_values,\n",
    "            'f_values':f_values\n",
    "            }\n",
    "    return GradResults"
   ]
  },
  {
   "cell_type": "code",
   "execution_count": 7,
   "metadata": {},
   "outputs": [
    {
     "name": "stdout",
     "output_type": "stream",
     "text": [
      "tps écoulé (gradient_rho_constant): 0.023088932037353516\n",
      "[-0.6813617   0.14924945 -0.61429956  0.48568951 -0.0336978 ]\n"
     ]
    }
   ],
   "source": [
    "A,B,S = definition_constantes()\n",
    "d=B.shape[0]\n",
    "x0 = np.ones((d,))\n",
    "\n",
    "debut = time.time()\n",
    "GradResults=gradient_rho_adaptatif(f1,df1,x0,rho=0.001,tol=1e-6,args=(B,S))\n",
    "tps_ecoule = time.time()-debut\n",
    "print('tps écoulé (gradient_rho_constant):',tps_ecoule)\n",
    "print(GradResults['minimum'])"
   ]
  },
  {
   "cell_type": "markdown",
   "metadata": {},
   "source": [
    "On teste notre algorithme adaptatif sur la même grille que précédemment."
   ]
  },
  {
   "cell_type": "code",
   "execution_count": 8,
   "metadata": {},
   "outputs": [
    {
     "name": "stdout",
     "output_type": "stream",
     "text": [
      "No convergence for rho =  0.01\n"
     ]
    },
    {
     "data": {
      "image/png": "[encoded data removed]",
      "text/plain": [
       "<Figure size 432x288 with 1 Axes>"
      ]
     },
     "metadata": {
      "needs_background": "light"
     },
     "output_type": "display_data"
    }
   ],
   "source": [
    "rho_grid = [1, 0.1, 0.01, 0.001, 0.0001]\n",
    "rho_convergence = []\n",
    "f_minimum_results = []\n",
    "rho_no_convergence = []\n",
    "for rho in rho_grid:\n",
    "    GradResults=gradient_rho_adaptatif(f1,df1,x0,rho=rho,tol=1e-6,args=(B,S))\n",
    "    if GradResults['converged']:\n",
    "        rho_convergence.append(rho)\n",
    "        f_minimum_results.append(GradResults['f_minimum'])\n",
    "        plt.plot(range(GradResults[\"iterations\"] + 1), GradResults[\"f_values\"], label = str(rho))\n",
    "        \n",
    "    else:\n",
    "        print('No convergence for rho = ', rho)\n",
    "        rho_no_convergence.append(rho)\n",
    "        \n",
    "plt.legend() \n",
    "plt.ylim((-10, 120))\n",
    "plt.show()"
   ]
  },
  {
   "cell_type": "markdown",
   "metadata": {},
   "source": [
    "On peut voir que la \"qualité\" de la convergence dépend du $\\rho$, elle est lente et instable pour $\\rho = 1$"
   ]
  },
  {
   "cell_type": "markdown",
   "metadata": {},
   "source": [
    "On choisit une valeur de \"bonne\" valeur $\\rho$ pour chaque méthode et on compare les performances.\n",
    "On prend alors $\\rho = 0.01$ pour gradient_rho_constant et $\\rho = 0.1$ pour gradient_rho_adaptatif."
   ]
  },
  {
   "cell_type": "code",
   "execution_count": 9,
   "metadata": {},
   "outputs": [
    {
     "name": "stdout",
     "output_type": "stream",
     "text": [
      "tps écoulé (gradient_rho_constant): 0.053941965103149414\n",
      "[-0.68577502  0.1518605  -0.61419559  0.48823926 -0.03959053]\n",
      "Nombre d'itérations :  641\n"
     ]
    }
   ],
   "source": [
    "rho_const = 0.01\n",
    "A,B,S = definition_constantes()\n",
    "d=B.shape[0]\n",
    "x0 = np.ones((d,))\n",
    "\n",
    "debut = time.time()\n",
    "GradResultsConstant=gradient_rho_constant(f1,df1,x0,rho=rho_const,tol=1e-6,args=(B,S))\n",
    "tps_ecoule = time.time()-debut\n",
    "print('tps écoulé (gradient_rho_constant):',tps_ecoule)\n",
    "print(GradResults['minimum'])\n",
    "print(\"Nombre d'itérations : \", GradResultsConstant['iterations'])"
   ]
  },
  {
   "cell_type": "code",
   "execution_count": 10,
   "metadata": {},
   "outputs": [
    {
     "name": "stdout",
     "output_type": "stream",
     "text": [
      "tps écoulé (gradient_rho_constant): 0.018518924713134766\n",
      "[-0.68577502  0.1518605  -0.61419559  0.48823926 -0.03959053]\n",
      "Nombre d'itérations :  124\n"
     ]
    }
   ],
   "source": [
    "rho_ad = 0.1\n",
    "A,B,S = definition_constantes()\n",
    "d=B.shape[0]\n",
    "x0 = np.ones((d,))\n",
    "\n",
    "debut = time.time()\n",
    "GradResultsAdaptatif=gradient_rho_adaptatif(f1,df1,x0,rho=rho_ad,tol=1e-6,args=(B,S))\n",
    "tps_ecoule = time.time()-debut\n",
    "print('tps écoulé (gradient_rho_constant):',tps_ecoule)\n",
    "print(GradResults['minimum'])\n",
    "print(\"Nombre d'itérations : \", GradResultsAdaptatif['iterations'])"
   ]
  },
  {
   "cell_type": "markdown",
   "metadata": {},
   "source": [
    "La méthode adaptative converge plus rapidement que la méthode à pas constant pour nos valeurs de $\\rho$ choisies, le nombre d'itérations est beaucoup plus petit: 124 face à 641, et les appels à la fonction coût par itération reste le même entre les deux méthodes."
   ]
  },
  {
   "cell_type": "markdown",
   "metadata": {},
   "source": [
    "## Méthode de Quasi-Newton"
   ]
  },
  {
   "cell_type": "code",
   "execution_count": 11,
   "metadata": {},
   "outputs": [
    {
     "name": "stdout",
     "output_type": "stream",
     "text": [
      "tps écoulé (BFGS): 0.0015308856964111328\n",
      "Valeur du minimum de f1 :  -1.836962311965253\n",
      "Nombre d'itérations :  10\n"
     ]
    }
   ],
   "source": [
    "from scipy.optimize import minimize\n",
    "\n",
    "debut = time.time()\n",
    "NewtonResults = minimize(f1, x0, jac = df1, args = (B,S), method = 'BFGS', tol=1e-6)\n",
    "tps_ecoule = time.time()-debut\n",
    "print('tps écoulé (BFGS):', tps_ecoule)\n",
    "print('Valeur du minimum de f1 : ', NewtonResults.fun)\n",
    "print(\"Nombre d'itérations : \", NewtonResults.nit)"
   ]
  },
  {
   "cell_type": "markdown",
   "metadata": {},
   "source": [
    "On converge vers le même minimum pour f1 beaucoup plus rapidement en temps d'éxécution et en nombre d'itération (10 face à 124 de la méthode du gradient à pas adaptatif et 641 de la méthode du gradient à pas constant). L'autre avantage des méthodes de quasi-newton est qu'on ne choisit pas le pas $\\rho$"
   ]
  },
  {
   "cell_type": "markdown",
   "metadata": {},
   "source": [
    "# Optimisation sous contraintes"
   ]
  },
  {
   "cell_type": "markdown",
   "metadata": {},
   "source": [
    "## Sequential Quadratic Programming"
   ]
  },
  {
   "cell_type": "code",
   "execution_count": 12,
   "metadata": {},
   "outputs": [
    {
     "name": "stdout",
     "output_type": "stream",
     "text": [
      "tps écoulé (BFGS): 0.005149364471435547\n",
      "Valeur du minimum de f1 :  -0.13853161423986765\n",
      "Nombre d'itérations :  9\n",
      "Valeur du minimum :  [1.08020986e-15 1.26984963e-01 2.70234387e-15 1.94536212e-02\n",
      " 0.00000000e+00]\n"
     ]
    }
   ],
   "source": [
    "from scipy.optimize import minimize\n",
    "\n",
    "debut = time.time()\n",
    "SQPResults = minimize(f1, x0, jac = df1, args = (B,S), method = 'SLSQP', tol=1e-6, bounds = [(0, 1) for k in range(5)])\n",
    "tps_ecoule = time.time()-debut\n",
    "print('tps écoulé (BFGS):', tps_ecoule)\n",
    "print('Valeur du minimum de f1 : ', SQPResults.fun)\n",
    "print(\"Nombre d'itérations : \", SQPResults.nit)\n",
    "print(\"Valeur du minimum : \", SQPResults.x)"
   ]
  },
  {
   "cell_type": "markdown",
   "metadata": {},
   "source": [
    "On a bien le minimum qui respect la contrainte $U_{ad}$"
   ]
  },
  {
   "cell_type": "markdown",
   "metadata": {},
   "source": [
    "## Méthode de pénalisation"
   ]
  },
  {
   "cell_type": "markdown",
   "metadata": {},
   "source": [
    "On définit la pénalisation $\\beta$ sur $U_{ad} = [0, 1]^5$ de la manière suivante:\n",
    "\\begin{equation}\n",
    "\\beta(x) = \\sum_{i = 1}^{5}[(-x_i)^{+} + (x_i - 1)^{+}]^2\n",
    "\\end{equation}\n",
    "où x = [x_1, x_2, x_3, x_4, x_5]"
   ]
  },
  {
   "cell_type": "code",
   "execution_count": 13,
   "metadata": {},
   "outputs": [],
   "source": [
    "def beta(x):\n",
    "    \n",
    "    \"\"\"\n",
    "    \n",
    "    Description\n",
    "    -----------\n",
    "    La pénalisation de x sur le pavé Uad = [0, 1]^5\n",
    "    \n",
    "    Parameters\n",
    "    -----------\n",
    "    x : list of 5 elements. The current point of the algorithm.\n",
    "    \n",
    "    Returns\n",
    "    -----------\n",
    "    Float, la pénalisation sur le pavé.\n",
    "    \n",
    "    \"\"\"\n",
    "    s = 0\n",
    "    for xi in x:\n",
    "        s += (max(0, -xi) + max(0, xi - 1))**2\n",
    "        \n",
    "    return s"
   ]
  },
  {
   "cell_type": "markdown",
   "metadata": {},
   "source": [
    "Maintenant on définit les fonctions pénalisation de f1 et f2."
   ]
  },
  {
   "cell_type": "code",
   "execution_count": 14,
   "metadata": {},
   "outputs": [],
   "source": [
    "def f1penal(U, B, S, epsilon):\n",
    "    return f1(U, B, S) + beta(U)/epsilon"
   ]
  },
  {
   "cell_type": "code",
   "execution_count": 15,
   "metadata": {},
   "outputs": [],
   "source": [
    "def f2(U, S):\n",
    "    n=U.shape[0]\n",
    "    U=np.matrix(U)\n",
    "    U.shape=(n,1)\n",
    "    fU = np.transpose(U) * S * U + np.transpose(U) * np.exp(U);\n",
    "    return float(fU)\n",
    "    \n",
    "def f2penal(U, S, epsilon):\n",
    "    return f2(U, S) + beta(U)/epsilon"
   ]
  },
  {
   "cell_type": "markdown",
   "metadata": {},
   "source": [
    "Dans notre algorithme d'optimisation avec pénalisation, on considère la suite décroissante $(\\epsilon_n)$ où $\\epsilon_n = \\frac{1}{2^n}$"
   ]
  },
  {
   "cell_type": "markdown",
   "metadata": {},
   "source": [
    "Pour que la fonction optimize_penalty_bis agisse sur les deux fonctions f1 et f2 (en réalité elle prend comme argument la fonction pénalisé). Il faut définir f1penal (respectivement f2penal) qui prend epsilon comme dernier argument."
   ]
  },
  {
   "cell_type": "code",
   "execution_count": 16,
   "metadata": {},
   "outputs": [],
   "source": [
    "def optimize_penalty_bis(fun, U0, tol, args):\n",
    "    \n",
    "    itermax = 10000  # nombre maximal d'itérations \n",
    "    xn = U0\n",
    "    f = fun(xn, *args) # point initial de l'algorithme\n",
    "    it = 0         # compteur pour les itérations\n",
    "    converged = False;\n",
    "    \n",
    "    while (~converged & (it < itermax)):\n",
    "        it=it+1\n",
    "        xnp1 = minimize(fun, xn, args = args, method = 'BFGS', tol = 1e-6).x\n",
    "        fnp1 = fun(xnp1, *args)\n",
    "        if abs(fnp1-f) < tol:\n",
    "            converged = True\n",
    "        xn=xnp1; f=fnp1;            # xnp1 : nouveau point courant\n",
    "        args = list(args)\n",
    "        args[-1] /= 2\n",
    "        args = tuple(args)\n",
    "\n",
    "    PenaltyResults = {\n",
    "            'initial_x':U0,\n",
    "            'minimum':xnp1,\n",
    "            'f_minimum':fnp1,\n",
    "            'iterations':it,\n",
    "            'converged':converged\n",
    "            }\n",
    "    return PenaltyResults"
   ]
  },
  {
   "cell_type": "markdown",
   "metadata": {},
   "source": [
    "Optimisation avec pénalisation de f1"
   ]
  },
  {
   "cell_type": "code",
   "execution_count": 17,
   "metadata": {},
   "outputs": [
    {
     "name": "stdout",
     "output_type": "stream",
     "text": [
      "tps écoulé (BFGS): 0.34787487983703613\n",
      "Valeur du minimum de f1 :  -0.13853243975221347\n",
      "Nombre d'itérations :  24\n",
      "Valeur du minimum :  [-3.53161469e-08  1.26885928e-01 -2.47327616e-07  1.94103685e-02\n",
      " -2.06874547e-08]\n"
     ]
    }
   ],
   "source": [
    "debut = time.time()\n",
    "epsilon0 = 1\n",
    "args = (B, S, epsilon0)\n",
    "PenaltyResults1 = optimize_penalty_bis(f1penal, x0, 1e-6, args)\n",
    "tps_ecoule = time.time()-debut\n",
    "print('tps écoulé (BFGS):', tps_ecoule)\n",
    "print('Valeur du minimum de f1 : ', PenaltyResults1['f_minimum'])\n",
    "print(\"Nombre d'itérations : \", PenaltyResults1['iterations'])\n",
    "print(\"Valeur du minimum : \", PenaltyResults1['minimum'])"
   ]
  },
  {
   "cell_type": "markdown",
   "metadata": {},
   "source": [
    "Optimisation avec pénalisation de f2."
   ]
  },
  {
   "cell_type": "code",
   "execution_count": 18,
   "metadata": {},
   "outputs": [
    {
     "name": "stdout",
     "output_type": "stream",
     "text": [
      "tps écoulé (BFGS): 0.2063443660736084\n",
      "Valeur du minimum de f2 :  -5.95457479883209e-07\n",
      "Nombre d'itérations :  22\n",
      "Valeur du minimum :  [-2.45870177e-07 -2.45866973e-07 -2.45864400e-07 -2.45865000e-07\n",
      " -2.45865302e-07]\n"
     ]
    }
   ],
   "source": [
    "debut = time.time()\n",
    "epsilon0 = 1\n",
    "args = (S, epsilon0)\n",
    "PenaltyResults2 = optimize_penalty_bis(f2penal, x0, 1e-6, args)\n",
    "tps_ecoule = time.time()-debut\n",
    "print('tps écoulé (BFGS):', tps_ecoule)\n",
    "print('Valeur du minimum de f2 : ', PenaltyResults2['f_minimum'])\n",
    "print(\"Nombre d'itérations : \", PenaltyResults2['iterations'])\n",
    "print(\"Valeur du minimum : \", PenaltyResults2['minimum'])"
   ]
  },
  {
   "cell_type": "markdown",
   "metadata": {},
   "source": [
    "### Vérification des résultats"
   ]
  },
  {
   "cell_type": "markdown",
   "metadata": {},
   "source": [
    "Vérifions les résultats sur f1 et f2 obtenus avec la méthode par pénalisation en les comparant avec les résultats obtenus avec un algorithme SQP."
   ]
  },
  {
   "cell_type": "code",
   "execution_count": null,
   "metadata": {},
   "outputs": [
    {
     "name": "stdout",
     "output_type": "stream",
     "text": [
      "tps écoulé (SLSQP): 0.0041730403900146484\n",
      "Valeur du minimum de f1 :  -0.13853161426486305\n",
      "Nombre d'itérations :  9\n",
      "Valeur du minimum :  [0.00000000e+00 1.26984956e-01 0.00000000e+00 1.94536138e-02\n",
      " 2.16628331e-15]\n"
     ]
    }
   ],
   "source": [
    "debut = time.time()\n",
    "SQPResults1 = minimize(f1, x0, args = (B, S), method = 'SLSQP', tol=1e-6, bounds = [(0, 1) for k in range(5)])\n",
    "tps_ecoule = time.time()-debut\n",
    "print('tps écoulé (SLSQP):', tps_ecoule)\n",
    "print('Valeur du minimum de f1 : ', SQPResults1.fun)\n",
    "print(\"Nombre d'itérations : \", SQPResults1.nit)\n",
    "print(\"Valeur du minimum : \", SQPResults1.x)"
   ]
  },
  {
   "cell_type": "code",
   "execution_count": null,
   "metadata": {},
   "outputs": [
    {
     "name": "stdout",
     "output_type": "stream",
     "text": [
      "tps écoulé (SLSQP): 0.0036458969116210938\n",
      "Valeur du minimum de f2 :  2.976067656614975e-15\n",
      "Nombre d'itérations :  4\n",
      "Valeur du minimum :  [1.72929872e-16 2.17964615e-15 5.95736056e-16 0.00000000e+00\n",
      " 2.77555756e-17]\n"
     ]
    }
   ],
   "source": [
    "debut = time.time()\n",
    "SQPResults2 = minimize(f2, x0, args = (S), method = 'SLSQP', tol=1e-6, bounds = [(0, 1) for k in range(5)])\n",
    "tps_ecoule = time.time()-debut\n",
    "print('tps écoulé (SLSQP):', tps_ecoule)\n",
    "print('Valeur du minimum de f2 : ', SQPResults2.fun)\n",
    "print(\"Nombre d'itérations : \", SQPResults2.nit)\n",
    "print(\"Valeur du minimum : \", SQPResults2.x)"
   ]
  },
  {
   "cell_type": "markdown",
   "metadata": {},
   "source": [
    "Regardons les différences entre les résultats des deux approches. On prend la norm de la différence entre les points minimum (chacun obtenu par une approche) et les valeurs de f1 et f2 en points."
   ]
  },
  {
   "cell_type": "code",
   "execution_count": null,
   "metadata": {},
   "outputs": [
    {
     "name": "stdout",
     "output_type": "stream",
     "text": [
      "Différence des minimums pour f1 :  0.00010805959170449629\n",
      "Différence des minimums pour f2 :  5.497739193420062e-07\n",
      "Différence des valeurs de f1 en les minimums :  8.254873504198734e-07\n",
      "Différence des valeurs de f2 en les minimums :  5.954574828592766e-07\n"
     ]
    }
   ],
   "source": [
    "print('Différence des minimums pour f1 : ', np.linalg.norm(SQPResults1.x - PenaltyResults1['minimum']))\n",
    "print('Différence des minimums pour f2 : ', np.linalg.norm(SQPResults2.x - PenaltyResults2['minimum']))\n",
    "\n",
    "print('Différence des valeurs de f1 en les minimums : ', abs(SQPResults1.fun - PenaltyResults1['f_minimum']))\n",
    "print('Différence des valeurs de f2 en les minimums : ', abs(SQPResults2.fun - PenaltyResults2['f_minimum']))"
   ]
  },
  {
   "cell_type": "markdown",
   "metadata": {},
   "source": [
    "On obtient donc bien des résultats très proches moyennant ces deux approches."
   ]
  },
  {
   "cell_type": "markdown",
   "metadata": {},
   "source": [
    "##  Méthodes duales pour l'optimisation sous contraintes"
   ]
  },
  {
   "cell_type": "code",
   "execution_count": null,
   "metadata": {},
   "outputs": [],
   "source": [
    "def L1(x, B, S, lambd):\n",
    "    \n",
    "    \"\"\"\n",
    "    \n",
    "    Lagrangien associé à f1 et à la contrainte Uad = [0, 1]^5\n",
    "    \n",
    "    \"\"\"\n",
    "    s = f1(x, B, S)\n",
    "    for i in range(10):\n",
    "        if i <= 4:\n",
    "            s += lambd[i]*(-x[i])\n",
    "            \n",
    "        else:\n",
    "            s += lambd[i]*(x[i%5] - 1)\n",
    "            \n",
    "    return s"
   ]
  },
  {
   "cell_type": "code",
   "execution_count": null,
   "metadata": {},
   "outputs": [],
   "source": [
    "def Uzawa(fun, U0, rho, tol, args):\n",
    "    \n",
    "    itermax = 10000  # nombre maximal d'itérations \n",
    "    xn = U0\n",
    "    lambdn = args[-1] # lambda\n",
    "    f = fun(xn, *args) # point initial de l'algorithme\n",
    "    it = 0         # compteur pour les itérations\n",
    "    converged = False;\n",
    "    \n",
    "    while (~converged & (it < itermax)):\n",
    "        it = it + 1\n",
    "        xnp1 = minimize(fun, xn, args = args, method = 'BFGS', tol = 1e-6).x\n",
    "        fnp1 = fun(xnp1, *args)\n",
    "        if abs(fnp1-f) < tol:\n",
    "            converged = True\n",
    "        xn=xnp1; f=fnp1;            # xnp1 : nouveau point courant\n",
    "        args = list(args)\n",
    "        gradlambd = np.array([-xn[i] for i in range(5)] + [(xn[i] - 1) for i in range(5)])\n",
    "#         args[-1] += np.array([max(rho*gradlambd[i], 0) for i in range(len(gradlambd))]) # Update lambda\n",
    "        args[-1] += rho*gradlambd\n",
    "        args[-1] = np.array([max(args[-1][i], 0) for i in range(len(gradlambd))])\n",
    "        args = tuple(args)\n",
    "    \n",
    "    UzawaResults = {\n",
    "            'initial_x':U0,\n",
    "            'minimum':xnp1,\n",
    "            'f_minimum':fnp1,\n",
    "            'iterations':it,\n",
    "            'converged':converged\n",
    "            }\n",
    "    return UzawaResults"
   ]
  },
  {
   "cell_type": "markdown",
   "metadata": {},
   "source": [
    "### Application sur f1"
   ]
  },
  {
   "cell_type": "code",
   "execution_count": null,
   "metadata": {},
   "outputs": [
    {
     "name": "stdout",
     "output_type": "stream",
     "text": [
      "tps écoulé (Uzawa): 8.579363107681274\n",
      "Valeur du minimum de f1 :  -0.13853176769095196\n",
      "Nombre d'itérations :  3797\n",
      "Valeur du minimum :  [ 1.78473145e-05  1.26907620e-01 -2.16153175e-05  1.94260530e-02\n",
      " -1.45058540e-05]\n"
     ]
    }
   ],
   "source": [
    "debut = time.time()\n",
    "lambd0 = np.ones(10)\n",
    "args = (B, S, lambd0)\n",
    "UzawaResults1 = Uzawa(L1, x0, 0.1, 1e-10, args)\n",
    "tps_ecoule = time.time() - debut\n",
    "print('tps écoulé (Uzawa):', tps_ecoule)\n",
    "print('Valeur du minimum de f1 : ', UzawaResults1['f_minimum'])\n",
    "print(\"Nombre d'itérations : \", UzawaResults1['iterations'])\n",
    "print(\"Valeur du minimum : \", UzawaResults1['minimum'])"
   ]
  },
  {
   "cell_type": "code",
   "execution_count": null,
   "metadata": {},
   "outputs": [
    {
     "data": {
      "text/plain": [
       "-0.13863072387264566"
      ]
     },
     "execution_count": 25,
     "metadata": {},
     "output_type": "execute_result"
    }
   ],
   "source": [
    "f1(UzawaResults1['minimum'], B, S)"
   ]
  },
  {
   "cell_type": "markdown",
   "metadata": {},
   "source": [
    "On compare les minimums de f1 obtenus avec les méthodes Uzawa et SQP"
   ]
  },
  {
   "cell_type": "code",
   "execution_count": null,
   "metadata": {},
   "outputs": [
    {
     "name": "stdout",
     "output_type": "stream",
     "text": [
      "Différence des minimums pour f1 :  8.795838959798934e-05\n"
     ]
    }
   ],
   "source": [
    "print('Différence des minimums pour f1 : ', np.linalg.norm(SQPResults1.x - UzawaResults1['minimum']))"
   ]
  },
  {
   "cell_type": "markdown",
   "metadata": {},
   "source": [
    "Les deux méthodes convergent bien vers le même minimum unique de f1."
   ]
  },
  {
   "cell_type": "markdown",
   "metadata": {},
   "source": [
    "### Application sur f2"
   ]
  },
  {
   "cell_type": "code",
   "execution_count": null,
   "metadata": {},
   "outputs": [],
   "source": [
    "def L2(x, S, lambd):\n",
    "    \n",
    "    \"\"\"\n",
    "    \n",
    "    Lagrangien associé à f1 et à la contrainte Uad = [0, 1]^5\n",
    "    \n",
    "    \"\"\"\n",
    "    s = f2(x, S)\n",
    "    for i in range(10):\n",
    "        if i <= 4:\n",
    "            s += lambd[i]*(-x[i])\n",
    "            \n",
    "        else:\n",
    "            s += lambd[i]*(x[i%5] - 1)\n",
    "            \n",
    "    return s"
   ]
  },
  {
   "cell_type": "code",
   "execution_count": null,
   "metadata": {},
   "outputs": [
    {
     "name": "stdout",
     "output_type": "stream",
     "text": [
      "tps écoulé (Uzawa): 6.900090932846069\n",
      "Valeur du minimum de f2 :  3.069075884807169e-15\n",
      "Nombre d'itérations :  10000\n",
      "Valeur du minimum :  [-2.10674299e-09  1.14633498e-09  4.08011906e-09  2.01751742e-09\n",
      "  3.15761027e-09]\n"
     ]
    }
   ],
   "source": [
    "debut = time.time()\n",
    "lambd0 = np.ones(10)\n",
    "args = (S, lambd0)\n",
    "UzawaResults2 = Uzawa(L2, x0, 0.1, 1e-20, args)\n",
    "tps_ecoule = time.time() - debut\n",
    "print('tps écoulé (Uzawa):', tps_ecoule)\n",
    "print('Valeur du minimum de f2 : ', UzawaResults2['f_minimum'])\n",
    "print(\"Nombre d'itérations : \", UzawaResults2['iterations'])\n",
    "print(\"Valeur du minimum : \", UzawaResults2['minimum'])"
   ]
  },
  {
   "cell_type": "markdown",
   "metadata": {},
   "source": [
    "### Vérification des résultats"
   ]
  },
  {
   "cell_type": "markdown",
   "metadata": {},
   "source": [
    "Comme pour la méthode de pénalisation, comparons maintenant les résultats obtenus par l'algorithme d'Uzawa et par un algorithme SQP."
   ]
  },
  {
   "cell_type": "code",
   "execution_count": null,
   "metadata": {},
   "outputs": [
    {
     "name": "stdout",
     "output_type": "stream",
     "text": [
      "Différence des minimums pour f1 :  8.795838959798934e-05\n",
      "Différence des minimums pour f2 :  6.036612567708126e-09\n",
      "Différence des valeurs de f1 en les minimums :  1.5342608891688592e-07\n",
      "Différence des valeurs de f2 en les minimums :  9.300822819219412e-17\n"
     ]
    }
   ],
   "source": [
    "print('Différence des minimums pour f1 : ', np.linalg.norm(SQPResults1.x - UzawaResults1['minimum']))\n",
    "print('Différence des minimums pour f2 : ', np.linalg.norm(SQPResults2.x - UzawaResults2['minimum']))\n",
    "\n",
    "print('Différence des valeurs de f1 en les minimums : ', abs(SQPResults1.fun - UzawaResults1['f_minimum']))\n",
    "print('Différence des valeurs de f2 en les minimums : ', abs(SQPResults2.fun - UzawaResults2['f_minimum']))"
   ]
  },
  {
   "cell_type": "markdown",
   "metadata": {},
   "source": [
    "On obtient donc bien des résultats très proches."
   ]
  },
  {
   "cell_type": "markdown",
   "metadata": {},
   "source": [
    "## Optimisation non convexe - Recuit simulé"
   ]
  },
  {
   "cell_type": "code",
   "execution_count": null,
   "metadata": {},
   "outputs": [],
   "source": [
    "def f3(U, B, S):\n",
    "    \n",
    "    return f1(U, B, S) + 10*np.sin(2*f1(U, B, S))"
   ]
  },
  {
   "cell_type": "markdown",
   "metadata": {},
   "source": [
    "### Minimisation par BFGS"
   ]
  },
  {
   "cell_type": "markdown",
   "metadata": {},
   "source": [
    "On essaie les points initiaux [1, 1, 1, 1, 1] et [0, 0, 0, 0, 0]"
   ]
  },
  {
   "cell_type": "code",
   "execution_count": null,
   "metadata": {},
   "outputs": [
    {
     "name": "stdout",
     "output_type": "stream",
     "text": [
      "tps écoulé (BFGS): 0.03492617607116699\n",
      "Valeur du minimum de f3 :  17.47643311291821\n",
      "Valeur du point minimisant de f3 :  [1.13773313 0.69527366 0.31701339 0.53778966 0.50675153]\n",
      "Nombre d'itérations :  6\n"
     ]
    }
   ],
   "source": [
    "debut = time.time()\n",
    "x0 = np.ones((d,))\n",
    "NewtonResults = minimize(f3, x0, args = (B, S), method = 'BFGS', tol=1e-10)\n",
    "tps_ecoule = time.time()-debut\n",
    "print('tps écoulé (BFGS):', tps_ecoule)\n",
    "print('Valeur du minimum de f3 : ', NewtonResults.fun)\n",
    "print('Valeur du point minimisant de f3 : ', NewtonResults.x)\n",
    "print(\"Nombre d'itérations : \", NewtonResults.nit)"
   ]
  },
  {
   "cell_type": "code",
   "execution_count": null,
   "metadata": {},
   "outputs": [
    {
     "name": "stdout",
     "output_type": "stream",
     "text": [
      "tps écoulé (BFGS): 0.03083634376525879\n",
      "Valeur du minimum de f3 :  -10.797900769519343\n",
      "Valeur du point minimisant de f3 :  [-0.08806077  0.17642997 -0.337911    0.05741153  0.12232578]\n",
      "Nombre d'itérations :  8\n"
     ]
    }
   ],
   "source": [
    "debut = time.time()\n",
    "x0 = np.zeros((d,))\n",
    "NewtonResults = minimize(f3, x0, args = (B, S), method = 'BFGS', tol=1e-10)\n",
    "tps_ecoule = time.time()-debut\n",
    "print('tps écoulé (BFGS):', tps_ecoule)\n",
    "print('Valeur du minimum de f3 : ', NewtonResults.fun)\n",
    "print('Valeur du point minimisant de f3 : ', NewtonResults.x)\n",
    "print(\"Nombre d'itérations : \", NewtonResults.nit)"
   ]
  },
  {
   "cell_type": "markdown",
   "metadata": {},
   "source": [
    "On ne converge pas vers les mêmes minimas locaux."
   ]
  },
  {
   "cell_type": "markdown",
   "metadata": {},
   "source": [
    "### Simulated Annealing"
   ]
  },
  {
   "cell_type": "markdown",
   "metadata": {},
   "source": [
    "On teste l'algorithme Simulated Annealing avec une liste de points initiaux pour voir si on converge toujours vers le même minima."
   ]
  },
  {
   "cell_type": "code",
   "execution_count": null,
   "metadata": {},
   "outputs": [
    {
     "name": "stdout",
     "output_type": "stream",
     "text": [
      "tps écoulé (SimulatedAnnealing): 20.395237922668457\n",
      "Valeur du minimum de f3 :  -10.797900769519423\n",
      "Valeur du point minimisant de f3 :  [ 0.09312001 -0.06746167 -0.29671142 -0.03672598  0.60098799]\n",
      "Nombre d'itérations :  1000\n"
     ]
    }
   ],
   "source": [
    "from scipy.optimize import basinhopping\n",
    "debut = time.time()\n",
    "x0 = np.ones(d)\n",
    "args = (B, S)\n",
    "SimulatedAnnealingResults = basinhopping(f3, x0, 1000, minimizer_kwargs = {\"args\" : (B, S)})\n",
    "tps_ecoule = time.time()-debut\n",
    "print('tps écoulé (SimulatedAnnealing):', tps_ecoule)\n",
    "print('Valeur du minimum de f3 : ', SimulatedAnnealingResults.fun)\n",
    "print('Valeur du point minimisant de f3 : ', SimulatedAnnealingResults.x)\n",
    "print(\"Nombre d'itérations : \", SimulatedAnnealingResults.nit)"
   ]
  },
  {
   "cell_type": "code",
   "execution_count": null,
   "metadata": {},
   "outputs": [],
   "source": [
    "initialPoints = [np.ones(d), np.zeros(d)] + [np.random.rand(d) for k in range(5)]\n",
    "f3_minimas = []\n",
    "f3_values = []\n",
    "for x0 in initialPoints:\n",
    "    SimulatedAnnealingResults = basinhopping(f3, x0, 1000, minimizer_kwargs = {\"args\" : (B, S)})\n",
    "    f3_minimas.append(SimulatedAnnealingResults.x)\n",
    "    f3_values.append(SimulatedAnnealingResults.fun)"
   ]
  },
  {
   "cell_type": "code",
   "execution_count": null,
   "metadata": {},
   "outputs": [],
   "source": [
    "f3_values"
   ]
  },
  {
   "cell_type": "markdown",
   "metadata": {},
   "source": [
    "On converge bien vers le même minimum de la fonction."
   ]
  },
  {
   "cell_type": "markdown",
   "metadata": {},
   "source": [
    "# Synthèse d'un filtre à réponse impulsionnelle finie"
   ]
  },
  {
   "cell_type": "code",
   "execution_count": null,
   "metadata": {},
   "outputs": [],
   "source": [
    "def H(h, mu):\n",
    "    \n",
    "    \"\"\"\n",
    "    \n",
    "    Description\n",
    "    -----------\n",
    "    Réponse fréquentielle\n",
    "    \n",
    "    Parameters\n",
    "    -----------\n",
    "    h : List, 30 coefficients. C'est la variable par rapport à laquelle on va minimiser H.\n",
    "    mu : Int, la variable fréquence.\n",
    "        \n",
    "    Returns\n",
    "    -----------\n",
    "    La réponse fréquentielle\n",
    "    \n",
    "    \"\"\"\n",
    "    \n",
    "    n = h.shape[0]\n",
    "    h = np.matrix(h)\n",
    "    h.shape = (n,1)\n",
    "    Cos = [np.cos(2*np.pi*mu*i) for i in range(n)] # La liste contenant les valeurs cos(2*pi*mu*i)\n",
    "    Cos = np.matrix(Cos)\n",
    "    Cos.shape = (n, 1)\n",
    "    Hh = np.transpose(h) * Cos\n",
    "    return float(Hh)\n",
    "    "
   ]
  },
  {
   "cell_type": "code",
   "execution_count": null,
   "metadata": {},
   "outputs": [],
   "source": [
    "def J(h, p):\n",
    "    \"\"\"\n",
    "    p: Int, 3*p sera le nombre de points pour le premier intervalle et 8*p pour le second pour qu'on ait\n",
    "       une discrétisation uniforme des deux intervalles.\n",
    "    \"\"\"\n",
    "    \n",
    "    differences = []\n",
    "    Mu1 = np.linspace(0, 0.1, 3*p)\n",
    "    Mu2 = np.linspace(0.15, 0.5, 8*p)\n",
    "    for mu in Mu1:\n",
    "        differences.append(abs(1 - H(h, mu)))\n",
    "        \n",
    "    for mu in Mu2:\n",
    "        differences.append(abs(- H(h, mu)))\n",
    "        \n",
    "    return max(differences)\n"
   ]
  },
  {
   "cell_type": "code",
   "execution_count": null,
   "metadata": {},
   "outputs": [],
   "source": [
    "debut = time.time()\n",
    "h0 = np.ones(30)\n",
    "p = 5\n",
    "NewtonResults = minimize(J, h0, args = (p), method = 'BFGS', tol=1e-10)\n",
    "tps_ecoule = time.time()-debut\n",
    "print('tps écoulé (BFGS):', tps_ecoule)\n",
    "print('Valeur du minimum de J : ', NewtonResults.fun)\n",
    "print(\"Nombre d'itérations : \", NewtonResults.nit)\n",
    "print(\"Etat de convergence : \", NewtonResults.success)"
   ]
  },
  {
   "cell_type": "code",
   "execution_count": null,
   "metadata": {},
   "outputs": [],
   "source": [
    "NewtonResults.message"
   ]
  },
  {
   "cell_type": "markdown",
   "metadata": {},
   "source": [
    "On va reformuler le problème précédent comme un problème d'optimisation linéaire:\n",
    "\n",
    "\n",
    "$$ min\\left(z \\right) $$ \n",
    "\n",
    "\n",
    "sous les contraintes:\n",
    "$$\n",
    "\\forall j\n",
    "\\begin{cases}\n",
    "H_0\\left(\\mu_j \\right) - H\\left(\\mu_j \\right) &\\le z \\\\\n",
    "H_0\\left(\\mu_j \\right) - H\\left(\\mu_j \\right) &\\ge -z\n",
    "\\end{cases}\n",
    "$$\n",
    "qu'on peut reformuler:\n",
    "$$\n",
    "\\forall j\n",
    "\\begin{cases}\n",
    "H_0\\left(\\mu_j \\right) - H\\left(\\mu_j \\right) - z &\\le 0 \\\\\n",
    "-H_0\\left(\\mu_j \\right) + H\\left(\\mu_j \\right) - z &\\le 0\n",
    "\\end{cases}\n",
    "$$"
   ]
  }
 ],
 "metadata": {
  "celltoolbar": "Format de la Cellule Texte Brut",
  "kernelspec": {
   "display_name": "Python 3",
   "language": "python",
   "name": "python3"
  },
  "language_info": {
   "codemirror_mode": {
    "name": "ipython",
    "version": 3
   },
   "file_extension": ".py",
   "mimetype": "text/x-python",
   "name": "python",
   "nbconvert_exporter": "python",
   "pygments_lexer": "ipython3",
   "version": "3.6.6"
  }
 },
 "nbformat": 4,
 "nbformat_minor": 2
}
