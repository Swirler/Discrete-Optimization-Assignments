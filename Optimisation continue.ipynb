{
 "cells": [
  {
   "cell_type": "markdown",
   "metadata": {},
   "source": []
  },
  {
   "cell_type": "code",
   "execution_count": 1,
   "metadata": {},
   "outputs": [],
   "source": [
    "%matplotlib inline\n",
    "import numpy as np\n",
    "import time\n",
    "import matplotlib.pyplot as plt\n",
    "import seaborn as sns\n",
    "sns.set()"
   ]
  },
  {
   "cell_type": "code",
   "execution_count": 2,
   "metadata": {},
   "outputs": [],
   "source": [
    "# Definition des constante A, B et S \n",
    "def definition_constantes():\n",
    "    B = np.matrix('-1.0; 2.0; -3.5; 1.2; 1.5')\n",
    "    A = np.matrix([[ 1.0, -1.0, 2.0, -0.9, 2.1],\n",
    "                   [ 1.25, 2.0, 0.5, 1.2, -0.5],\n",
    "                   [ -3.0, 2.3, 0.5, 1.3, -2.5],\n",
    "                   [ -2.2, 2.3, 1.5, 0.5, 1.45],\n",
    "                   [ -1.2, 3.0, -0.5, 0.75, -1.5]])\n",
    "    \n",
    "    S = A*np.transpose(A)\n",
    "    return A, B, S"
   ]
  },
  {
   "cell_type": "code",
   "execution_count": 3,
   "metadata": {},
   "outputs": [],
   "source": [
    "def f1(U,B,S):\n",
    "    n=U.shape[0]\n",
    "    U=np.matrix(U)\n",
    "    U.shape=(n,1)\n",
    "    fU = np.transpose(U) * S * U - np.transpose(B) * U;\n",
    "    return float(fU)\n",
    "\n",
    "\n",
    "def df1(U,B,S):\n",
    "    n=U.shape[0]\n",
    "    U=np.matrix(U)\n",
    "    U.shape=(n,1)\n",
    "    dfU = 2 * S * U - B\n",
    "    dfU = np.array(dfU)\n",
    "    dfU.shape=(n,)\n",
    "    return dfU\n",
    "\n",
    "\n",
    "def f2(U,S):\n",
    "    n=U.shape[0]\n",
    "    U=np.matrix(U)\n",
    "    U.shape=(n,1)\n",
    "    fU = np.transpose(U) * S * U + np.transpose(U) * np.exp(U);\n",
    "    return float(fU)"
   ]
  },
  {
   "cell_type": "markdown",
   "metadata": {},
   "source": [
    "# Optimisation sans contraintes"
   ]
  },
  {
   "cell_type": "markdown",
   "metadata": {},
   "source": [
    "## Gradient rho constant"
   ]
  },
  {
   "cell_type": "markdown",
   "metadata": {},
   "source": [
    "##### Définition de la fonction"
   ]
  },
  {
   "cell_type": "code",
   "execution_count": 4,
   "metadata": {},
   "outputs": [],
   "source": [
    "def gradient_rho_constant(fun, fun_der, U0, rho, tol,args):\n",
    "# Fonction permettant de minimiser la fonction f(U) par rapport au vecteur U \n",
    "# Méthode : gradient à pas fixe\n",
    "# INPUTS :\n",
    "# - fun   : La fonction à minimiser\n",
    "# - fun_der  : Le gradient de la fonction à minimiser\n",
    "# - U0      : vecteur initial \n",
    "# - rho     : paramètre gérant l'amplitude des déplacement \n",
    "# - tol     : tolérance pour définir le critère d'arrêt\n",
    "# - args    : Arguments pour la fonction fun\n",
    "# OUTPUT : \n",
    "# - GradResults : structure décrivant la solution \n",
    "\n",
    "\n",
    "    itermax=10000  # nombre maximal d'itérations \n",
    "    xn=U0\n",
    "    f=fun(xn,*args) # point initial de l'algorithme\n",
    "    it=0         # compteur pour les itérations\n",
    "    converged = False;\n",
    "    \n",
    "    points_history=[U0]\n",
    "    f_history=[f]\n",
    "    \n",
    "    while (~converged & (it < itermax)):\n",
    "        it=it+1\n",
    "        dfx=fun_der(xn,*args)       # valeur courante de la fonction à minimiser\n",
    "        xnp1=xn-rho*dfx             # nouveau point courant (x_{n+1})\n",
    "        fnp1=fun(xnp1,*args)\n",
    "        \n",
    "        points_history+=[xnp1]\n",
    "        f_history+=[fnp1]\n",
    "        \n",
    "        if abs(fnp1-f)<tol:\n",
    "            converged = True\n",
    "        xn=xnp1; f=fnp1;           # xnp1 : nouveau point courant\n",
    "\n",
    "    GradResults = {\n",
    "            'initial_x':U0,\n",
    "            'minimum':xnp1,\n",
    "            'f_minimum':fnp1,\n",
    "            'iterations':it,\n",
    "            'converged':converged,\n",
    "            'points_history':points_history,\n",
    "            'f_history':f_history\n",
    "            }\n",
    "    return GradResults"
   ]
  },
  {
   "cell_type": "markdown",
   "metadata": {},
   "source": [
    "##### Application du gradient à pas constant pour différents pas"
   ]
  },
  {
   "cell_type": "code",
   "execution_count": 5,
   "metadata": {
    "scrolled": false
   },
   "outputs": [
    {
     "name": "stderr",
     "output_type": "stream",
     "text": [
      "/Users/mehdiboubnan/anaconda3/lib/python3.6/site-packages/ipykernel_launcher.py:27: RuntimeWarning: invalid value encountered in subtract\n"
     ]
    },
    {
     "name": "stdout",
     "output_type": "stream",
     "text": [
      "No convergence for rho = 1 \n",
      "\n",
      "------------------------------------------------------------\n",
      "No convergence for rho = 0.1 \n",
      "\n",
      "------------------------------------------------------------\n",
      "For rho = 0.01\n",
      "Time elapsed (gradient_rho_constant): 0.05895090103149414\n",
      "\t Number of iterations : 642\n",
      "\t Minimum point : [-0.68823504  0.15332241 -0.61439915  0.48960858 -0.04326259]\n",
      "\t Minimal value of f : -1.8368912354010207\n"
     ]
    },
    {
     "data": {
      "image/png": "[encoded data removed]",
      "text/plain": [
       "<Figure size 432x288 with 1 Axes>"
      ]
     },
     "metadata": {
      "needs_background": "light"
     },
     "output_type": "display_data"
    },
    {
     "name": "stdout",
     "output_type": "stream",
     "text": [
      "\n",
      "\n",
      "------------------------------------------------------------\n",
      "For rho = 0.02\n",
      "Time elapsed (gradient_rho_constant): 0.03231477737426758\n",
      "\t Number of iterations : 346\n",
      "\t Minimum point : [-0.69056385  0.15469913 -0.61430107  0.4909626  -0.04630803]\n",
      "\t Minimal value of f : -1.8369273558471515\n"
     ]
    },
    {
     "data": {
      "image/png": "[encoded data removed]",
      "text/plain": [
       "<Figure size 432x288 with 1 Axes>"
      ]
     },
     "metadata": {
      "needs_background": "light"
     },
     "output_type": "display_data"
    },
    {
     "name": "stdout",
     "output_type": "stream",
     "text": [
      "\n",
      "\n",
      "------------------------------------------------------------\n",
      "No convergence for rho = 0.04 \n",
      "\n",
      "------------------------------------------------------------\n",
      "For rho = 0.001\n",
      "Time elapsed (gradient_rho_constant): 0.21236300468444824\n",
      "\t Number of iterations : 4743\n",
      "\t Minimum point : [-0.67112026  0.14320469 -0.61511994  0.47965764 -0.02088116]\n",
      "\t Minimal value of f : -1.8362366434463686\n"
     ]
    },
    {
     "data": {
      "image/png": "[encoded data removed]",
      "text/plain": [
       "<Figure size 432x288 with 1 Axes>"
      ]
     },
     "metadata": {
      "needs_background": "light"
     },
     "output_type": "display_data"
    },
    {
     "name": "stdout",
     "output_type": "stream",
     "text": [
      "\n",
      "\n",
      "------------------------------------------------------------\n",
      "No convergence for rho = 0.0001 \n",
      "\n",
      "------------------------------------------------------------\n",
      "Rhos and fmins :\n"
     ]
    },
    {
     "data": {
      "image/png": "[encoded data removed]",
      "text/plain": [
       "<Figure size 432x288 with 1 Axes>"
      ]
     },
     "metadata": {
      "needs_background": "light"
     },
     "output_type": "display_data"
    },
    {
     "name": "stdout",
     "output_type": "stream",
     "text": [
      "\t rho for least iterations : 0.02 with 346 iterations\n",
      "\t rho for least time : 0.02 with 0.03231477737426758 s\n",
      "\t rho for least fmin : 0.02 with f-min = -1.8369273558471515\n"
     ]
    }
   ],
   "source": [
    "A,B,S = definition_constantes()\n",
    "d=B.shape[0]\n",
    "x0 = np.ones((d,))\n",
    "\n",
    "rho_converged=[]\n",
    "f_converged=[]\n",
    "iterations=[]\n",
    "times=[]\n",
    "\n",
    "rho_list=[1,0.1,0.01,0.02,0.04,0.001,0.0001]\n",
    "\n",
    "for rho in rho_list:\n",
    "    debut = time.time()\n",
    "    GradResults=gradient_rho_constant(f1,df1,x0,rho=rho,tol=1e-6,args=(B,S))\n",
    "    tps_ecoule = time.time()-debut\n",
    "    \n",
    "    if GradResults[\"converged\"]:\n",
    "        rho_converged+=[rho]\n",
    "        f_converged+=[GradResults['f_minimum']]\n",
    "        iterations+=[len(GradResults[\"f_history\"])]\n",
    "        times+=[tps_ecoule]\n",
    "        \n",
    "        print(\"For rho =\",rho)\n",
    "        print('Time elapsed (gradient_rho_constant):',tps_ecoule)\n",
    "        print(\"\\t\",\"Number of iterations :\",len(GradResults[\"f_history\"]))\n",
    "        print(\"\\t\",\"Minimum point :\",GradResults['minimum'])\n",
    "        print(\"\\t\",\"Minimal value of f :\",GradResults['f_minimum'])\n",
    "        \n",
    "        plt.plot(range(len(GradResults[\"f_history\"])),GradResults[\"f_history\"])\n",
    "        plt.show()\n",
    "        \n",
    "        print(\"\\n\")\n",
    "        print(\"------------------------------------------------------------\")\n",
    "    \n",
    "    else :\n",
    "        print(\"No convergence for rho =\",rho,\"\\n\")\n",
    "        print(\"------------------------------------------------------------\")\n",
    "\n",
    "print(\"Rhos and fmins :\")\n",
    "plt.plot(rho_converged,f_converged,\"o\")\n",
    "plt.show()\n",
    "\n",
    "print(\"\\t\",\"rho for least iterations :\",rho_converged[iterations.index(min(iterations))],\"with\",min(iterations),\"iterations\")\n",
    "print(\"\\t\",\"rho for least time :\",rho_converged[times.index(min(times))],\"with\",min(times),\"s\")\n",
    "print(\"\\t\",\"rho for least fmin :\",rho_converged[f_converged.index(min(f_converged))],\"with f-min =\",min(f_converged))"
   ]
  },
  {
   "cell_type": "markdown",
   "metadata": {},
   "source": [
    "## Gradient rho adaptatif"
   ]
  },
  {
   "cell_type": "markdown",
   "metadata": {},
   "source": [
    "##### Définition de la fonction"
   ]
  },
  {
   "cell_type": "code",
   "execution_count": 6,
   "metadata": {},
   "outputs": [],
   "source": [
    "def gradient_rho_adaptatif(fun, fun_der, U0, rho, tol,args):\n",
    "# Fonction permettant de minimiser la fonction f(U) par rapport au vecteur U \n",
    "# Méthode : gradient à pas fixe\n",
    "# INPUTS :\n",
    "# - han_f   : handle vers la fonction à minimiser\n",
    "# - han_df  : handle vers le gradient de la fonction à minimiser\n",
    "# - U0      : vecteur initial \n",
    "# - rho     : paramètre gérant l'amplitude des déplacement \n",
    "# - tol     : tolérance pour définir le critère d'arrêt\n",
    "# OUTPUT : \n",
    "# - GradResults : structure décrivant la solution \n",
    "\n",
    "\n",
    "    itermax=10000  # nombre maximal d'itérations \n",
    "    xn=U0\n",
    "    f=fun(xn,*args) # point initial de l'algorithme\n",
    "    it=0         # compteur pour les itérations\n",
    "    converged = False;\n",
    "    \n",
    "    points_history=[U0]\n",
    "    f_history=[f]\n",
    "    \n",
    "    while (~converged & (it < itermax)):\n",
    "        it=it+1\n",
    "        dfx=fun_der(xn,*args)       # valeur courante de la fonction à minimiser\n",
    "        xnp1=xn-rho*dfx             # nouveau point courant (x_{n+1})\n",
    "        fnp1=fun(xnp1,*args)\n",
    "        \n",
    "        if fnp1<f_history[-1]:\n",
    "            rho=2*rho\n",
    "        else:\n",
    "            rho=rho/2\n",
    "        \n",
    "        points_history+=[xnp1]\n",
    "        f_history+=[fnp1]\n",
    "        \n",
    "        if abs(fnp1-f)<tol:\n",
    "            converged = True\n",
    "        xn=xnp1; f=fnp1;           # xnp1 : nouveau point courant\n",
    "\n",
    "    GradResults = {\n",
    "            'initial_x':U0,\n",
    "            'minimum':xnp1,\n",
    "            'f_minimum':fnp1,\n",
    "            'iterations':it,\n",
    "            'converged':converged,\n",
    "            'points_history':points_history,\n",
    "            'f_history':f_history\n",
    "            }\n",
    "    return GradResults"
   ]
  },
  {
   "cell_type": "markdown",
   "metadata": {},
   "source": [
    "##### Application du gradient à rho adaptatif pour différents rho"
   ]
  },
  {
   "cell_type": "code",
   "execution_count": 7,
   "metadata": {
    "scrolled": false
   },
   "outputs": [
    {
     "name": "stdout",
     "output_type": "stream",
     "text": [
      "For rho = 1\n",
      "Time elapsed (gradient_rho_adaptatif): 0.026661157608032227\n",
      "\t Number of iterations : 201\n",
      "\t Minimum point : [-0.6920906   0.1555979  -0.6140835   0.49188073 -0.04807756]\n",
      "\t Minimal value of f : -1.8369409555852307\n"
     ]
    },
    {
     "data": {
      "image/png": "[encoded data removed]",
      "text/plain": [
       "<Figure size 432x288 with 1 Axes>"
      ]
     },
     "metadata": {
      "needs_background": "light"
     },
     "output_type": "display_data"
    },
    {
     "name": "stdout",
     "output_type": "stream",
     "text": [
      "\n",
      "\n",
      "------------------------------------------------------------\n",
      "For rho = 0.1\n",
      "Time elapsed (gradient_rho_adaptatif): 0.012130022048950195\n",
      "\t Number of iterations : 125\n",
      "\t Minimum point : [-0.64801805  0.12951147 -0.61464009  0.46651389  0.01148178]\n",
      "\t Minimal value of f : -1.8339602846683696\n"
     ]
    },
    {
     "data": {
      "image/png": "[encoded data removed]",
      "text/plain": [
       "<Figure size 432x288 with 1 Axes>"
      ]
     },
     "metadata": {
      "needs_background": "light"
     },
     "output_type": "display_data"
    },
    {
     "name": "stdout",
     "output_type": "stream",
     "text": [
      "\n",
      "\n",
      "------------------------------------------------------------\n",
      "No convergence with rho = 0.01 \n",
      "\n",
      "------------------------------------------------------------\n",
      "No convergence with rho = 0.02 \n",
      "\n",
      "------------------------------------------------------------\n",
      "No convergence with rho = 0.04 \n",
      "\n",
      "------------------------------------------------------------\n",
      "For rho = 0.001\n",
      "Time elapsed (gradient_rho_adaptatif): 0.012998104095458984\n",
      "\t Number of iterations : 223\n",
      "\t Minimum point : [-0.6813617   0.14924945 -0.61429956  0.48568951 -0.0336978 ]\n",
      "\t Minimal value of f : -1.8366878229642478\n"
     ]
    },
    {
     "data": {
      "image/png": "[encoded data removed]",
      "text/plain": [
       "<Figure size 432x288 with 1 Axes>"
      ]
     },
     "metadata": {
      "needs_background": "light"
     },
     "output_type": "display_data"
    },
    {
     "name": "stdout",
     "output_type": "stream",
     "text": [
      "\n",
      "\n",
      "------------------------------------------------------------\n",
      "For rho = 0.0001\n",
      "Time elapsed (gradient_rho_adaptatif): 0.018193960189819336\n",
      "\t Number of iterations : 208\n",
      "\t Minimum point : [-0.68577502  0.1518605  -0.61419559  0.48823926 -0.03959053]\n",
      "\t Minimal value of f : -1.836825568188052\n"
     ]
    },
    {
     "data": {
      "image/png": "[encoded data removed]",
      "text/plain": [
       "<Figure size 432x288 with 1 Axes>"
      ]
     },
     "metadata": {
      "needs_background": "light"
     },
     "output_type": "display_data"
    },
    {
     "name": "stdout",
     "output_type": "stream",
     "text": [
      "\n",
      "\n",
      "------------------------------------------------------------\n",
      "Rhos and fmins :\n"
     ]
    },
    {
     "data": {
      "image/png": "[encoded data removed]",
      "text/plain": [
       "<Figure size 432x288 with 1 Axes>"
      ]
     },
     "metadata": {
      "needs_background": "light"
     },
     "output_type": "display_data"
    },
    {
     "name": "stdout",
     "output_type": "stream",
     "text": [
      "\t rho for least iterations : 0.1 with 125 iterations\n",
      "\t rho for least time : 0.1 with 0.012130022048950195 s\n",
      "\t rho for least fmin : 1 with f-min = -1.8369409555852307\n"
     ]
    }
   ],
   "source": [
    "A,B,S = definition_constantes()\n",
    "d=B.shape[0]\n",
    "x0 = np.ones((d,))\n",
    "\n",
    "rho_converged=[]\n",
    "f_converged=[]\n",
    "iterations=[]\n",
    "times=[]\n",
    "\n",
    "rho_list=[1,0.1,0.01,0.02,0.04,0.001,0.0001]\n",
    "\n",
    "for rho in rho_list:\n",
    "    debut = time.time()\n",
    "    GradResults=gradient_rho_adaptatif(f1,df1,x0,rho=rho,tol=1e-6,args=(B,S))\n",
    "    tps_ecoule = time.time()-debut\n",
    "    \n",
    "    if GradResults[\"converged\"]:\n",
    "        rho_converged+=[rho]\n",
    "        f_converged+=[GradResults['f_minimum']]\n",
    "        iterations+=[len(GradResults[\"f_history\"])]\n",
    "        times+=[tps_ecoule]\n",
    "        \n",
    "        print(\"For rho =\",rho)\n",
    "        print('Time elapsed (gradient_rho_adaptatif):',tps_ecoule)\n",
    "        print(\"\\t\",\"Number of iterations :\",len(GradResults[\"f_history\"]))\n",
    "        print(\"\\t\",\"Minimum point :\",GradResults['minimum'])\n",
    "        print(\"\\t\",\"Minimal value of f :\",GradResults['f_minimum'])\n",
    "        \n",
    "        plt.plot(range(len(GradResults[\"f_history\"])),GradResults[\"f_history\"])\n",
    "        plt.show()\n",
    "        \n",
    "        print(\"\\n\")\n",
    "        print(\"------------------------------------------------------------\")\n",
    "    \n",
    "    else :\n",
    "        print(\"No convergence with rho =\",rho,\"\\n\")\n",
    "        print(\"------------------------------------------------------------\")\n",
    "\n",
    "print(\"Rhos and fmins :\")\n",
    "plt.plot(rho_converged,f_converged,\"o\")\n",
    "plt.show()\n",
    "\n",
    "print(\"\\t\",\"rho for least iterations :\",rho_converged[iterations.index(min(iterations))],\"with\",min(iterations),\"iterations\")\n",
    "print(\"\\t\",\"rho for least time :\",rho_converged[times.index(min(times))],\"with\",min(times),\"s\")\n",
    "print(\"\\t\",\"rho for least fmin :\",rho_converged[f_converged.index(min(f_converged))],\"with f-min =\",min(f_converged))"
   ]
  },
  {
   "cell_type": "markdown",
   "metadata": {},
   "source": [
    "## Méthode Quasi-Newton"
   ]
  },
  {
   "cell_type": "code",
   "execution_count": 8,
   "metadata": {},
   "outputs": [],
   "source": [
    "from scipy.optimize import minimize"
   ]
  },
  {
   "cell_type": "code",
   "execution_count": 9,
   "metadata": {},
   "outputs": [
    {
     "name": "stdout",
     "output_type": "stream",
     "text": [
      "Optimization terminated successfully.\n",
      "\t Number of iterations : 10\n",
      "\t Time elapsed : 0.007689952850341797 s\n",
      "\t Minimal value of f : -1.836962311965253\n"
     ]
    }
   ],
   "source": [
    "A,B,S = definition_constantes()\n",
    "d=B.shape[0]\n",
    "x0 = np.ones((d,))\n",
    "\n",
    "debut=time.time()\n",
    "Quasi_newton=minimize(f1, x0, jac=df1, args=(B,S), method='BFGS', tol=1e-6)\n",
    "fin=time.time()\n",
    "\n",
    "print(Quasi_newton.message)\n",
    "print(\"\\t\",\"Number of iterations :\",Quasi_newton.nit)\n",
    "print(\"\\t\",\"Time elapsed :\",fin-debut,\"s\")\n",
    "print(\"\\t\",\"Minimal value of f :\",Quasi_newton.fun)"
   ]
  },
  {
   "cell_type": "markdown",
   "metadata": {},
   "source": [
    "# Optimisation sous contraintes"
   ]
  },
  {
   "cell_type": "markdown",
   "metadata": {},
   "source": [
    "## Algorithme SQP"
   ]
  },
  {
   "cell_type": "code",
   "execution_count": 10,
   "metadata": {},
   "outputs": [],
   "source": [
    "from scipy.optimize import minimize"
   ]
  },
  {
   "cell_type": "code",
   "execution_count": 11,
   "metadata": {},
   "outputs": [
    {
     "name": "stdout",
     "output_type": "stream",
     "text": [
      "Optimization terminated successfully.\n",
      "\t Number of iterations : 9\n",
      "\t Time elapsed : 0.004031181335449219 s\n",
      "\t Minimal value of f1 : -0.13853161423986765\n"
     ]
    }
   ],
   "source": [
    "A,B,S = definition_constantes()\n",
    "d=B.shape[0]\n",
    "x0 = np.ones((d,))\n",
    "\n",
    "debut=time.time()\n",
    "SQP1=minimize(f1, x0, jac=df1, args=(B,S), method='SLSQP', tol=1e-6, bounds=[(0,1)]*d)\n",
    "fin=time.time()\n",
    "\n",
    "print(SQP1.message)\n",
    "print(\"\\t\",\"Number of iterations :\",SQP1.nit)\n",
    "print(\"\\t\",\"Time elapsed :\",fin-debut,\"s\")\n",
    "print(\"\\t\",\"Minimal value of f1 :\",SQP1.fun)"
   ]
  },
  {
   "cell_type": "code",
   "execution_count": 12,
   "metadata": {},
   "outputs": [
    {
     "name": "stdout",
     "output_type": "stream",
     "text": [
      "Optimization terminated successfully.\n",
      "\t Number of iterations : 4\n",
      "\t Time elapsed : 0.004869222640991211 s\n",
      "\t Minimal value of f2 : 2.976067656614975e-15\n"
     ]
    }
   ],
   "source": [
    "A,B,S = definition_constantes()\n",
    "d=B.shape[0]\n",
    "x0 = np.ones((d,))\n",
    "\n",
    "debut=time.time()\n",
    "SQP2=minimize(f2, x0, args=(S), method='SLSQP', tol=1e-6, bounds=[(0,1)]*d)\n",
    "fin=time.time()\n",
    "\n",
    "print(SQP2.message)\n",
    "print(\"\\t\",\"Number of iterations :\",SQP2.nit)\n",
    "print(\"\\t\",\"Time elapsed :\",fin-debut,\"s\")\n",
    "print(\"\\t\",\"Minimal value of f2 :\",SQP2.fun)"
   ]
  },
  {
   "cell_type": "markdown",
   "metadata": {},
   "source": [
    "## Optimisation sous contraintes et pénalisation"
   ]
  },
  {
   "cell_type": "code",
   "execution_count": 13,
   "metadata": {},
   "outputs": [],
   "source": [
    "def beta(x):\n",
    "    \"\"\"\n",
    "    Description\n",
    "    ----------\n",
    "    La pénalisation de x sur le pavé Uad=[0,1]^5\n",
    "    \"\"\"\n",
    "    Beta=0\n",
    "    \n",
    "    for xi in x:\n",
    "        Beta+=(max(0,-xi)+max(0,xi-1))**2\n",
    "    \n",
    "    return Beta"
   ]
  },
  {
   "cell_type": "code",
   "execution_count": 14,
   "metadata": {},
   "outputs": [],
   "source": [
    "def f1penal(U, B, S, epsilon):\n",
    "    return f1(U,B,S) + beta(U)/epsilon\n",
    "\n",
    "def f2penal(U,S,epsilon):\n",
    "    return f2(U,S) + beta(U)/epsilon"
   ]
  },
  {
   "cell_type": "markdown",
   "metadata": {},
   "source": [
    "##### Définition de la fonction pour la méthode de pénalisation"
   ]
  },
  {
   "cell_type": "code",
   "execution_count": 15,
   "metadata": {},
   "outputs": [],
   "source": [
    "def BFGS_penal(fun, U0, tol, args):\n",
    "    # Fonction permettant de minimiser la fonction f(U) par rapport au vecteur U \n",
    "    # Méthode : gradient à pas fixe\n",
    "    # INPUTS :\n",
    "    # - fun     : fonction à minimiser\n",
    "    # - U0      : vecteur initial \n",
    "    # - tol     : tolérance pour définir le critère d'arrêt\n",
    "    # - args    : arguments pour la fonction à minimiser\n",
    "    # OUTPUT : \n",
    "    # - Results : structure décrivant la solution \n",
    "    \n",
    "    \n",
    "    itermax=10000  # nombre maximal d'itérations \n",
    "    xn=U0\n",
    "    f=fun(xn,*args) # point initial de l'algorithme\n",
    "    it=0         # compteur pour les itérations\n",
    "    converged = False;\n",
    "    \n",
    "    points_history=[xn]\n",
    "    f_history=[f]\n",
    "    \n",
    "    \n",
    "    while (~converged & (it < itermax)):\n",
    "        it=it+1\n",
    "       \n",
    "        BFGS=minimize(fun=fun, x0=xn, args=args, method='BFGS', tol=1e-6)        \n",
    "        \n",
    "        xnp1=BFGS.x\n",
    "        fnp1=fun(xnp1,*args)\n",
    "        \n",
    "        points_history+=[xnp1]\n",
    "        f_history+=[fnp1]\n",
    "        \n",
    "        if abs(fnp1-f)<tol:\n",
    "            converged = True\n",
    "        listargs=list(args)\n",
    "        listargs[-1]=listargs[-1]/2\n",
    "        args=tuple(listargs)\n",
    "        xn=xnp1\n",
    "        f=fnp1        \n",
    "\n",
    "    Results = {\n",
    "            'initial_x':U0,\n",
    "            'minimum':xnp1,\n",
    "            'f_minimum':fnp1,\n",
    "            'iterations':it,\n",
    "            'converged':converged,\n",
    "            'points_history':points_history,\n",
    "            'f_history':f_history\n",
    "            }\n",
    "    return Results"
   ]
  },
  {
   "cell_type": "markdown",
   "metadata": {},
   "source": [
    "##### Application de la méthode de pénalisation"
   ]
  },
  {
   "cell_type": "code",
   "execution_count": 16,
   "metadata": {},
   "outputs": [
    {
     "name": "stdout",
     "output_type": "stream",
     "text": [
      "Time elapsed : 0.344531774520874 s\n",
      "Number of iterations : 25\n",
      "Minimum point : [-3.53161469e-08  1.26885928e-01 -2.47327616e-07  1.94103685e-02\n",
      " -2.06874547e-08]\n",
      "Minimal value of f1 : -0.13853243975221347\n"
     ]
    },
    {
     "data": {
      "image/png": "[encoded data removed]",
      "text/plain": [
       "<Figure size 432x288 with 1 Axes>"
      ]
     },
     "metadata": {
      "needs_background": "light"
     },
     "output_type": "display_data"
    }
   ],
   "source": [
    "from scipy.optimize import minimize\n",
    "\n",
    "A,B,S = definition_constantes()\n",
    "d=B.shape[0]\n",
    "x0 = np.ones((d,))\n",
    "\n",
    "debut = time.time()\n",
    "Results_f1=BFGS_penal(fun=f1penal, U0=x0, tol=1e-6, args=(B,S,1))\n",
    "tps_ecoule = time.time()-debut\n",
    "\n",
    "print('Time elapsed :',tps_ecoule, 's')\n",
    "print(\"Number of iterations :\",len(Results_f1[\"f_history\"]))\n",
    "print(\"Minimum point :\",Results_f1['minimum'])\n",
    "print(\"Minimal value of f1 :\",Results_f1['f_minimum'])\n",
    "        \n",
    "plt.plot(range(len(Results_f1[\"f_history\"])),Results_f1[\"f_history\"])\n",
    "plt.title(\"Evolution of f1 during optimization\")\n",
    "plt.show()"
   ]
  },
  {
   "cell_type": "code",
   "execution_count": 17,
   "metadata": {},
   "outputs": [
    {
     "name": "stdout",
     "output_type": "stream",
     "text": [
      "Time elapsed : 0.22386670112609863 s\n",
      "Number of iterations : 23\n",
      "Minimum point : [-2.45870177e-07 -2.45866973e-07 -2.45864400e-07 -2.45865000e-07\n",
      " -2.45865302e-07]\n",
      "Minimal value of f2 : -5.95457479883209e-07\n"
     ]
    },
    {
     "data": {
      "image/png": "[encoded data removed]",
      "text/plain": [
       "<Figure size 432x288 with 1 Axes>"
      ]
     },
     "metadata": {
      "needs_background": "light"
     },
     "output_type": "display_data"
    }
   ],
   "source": [
    "from scipy.optimize import minimize\n",
    "\n",
    "A,B,S = definition_constantes()\n",
    "d=B.shape[0]\n",
    "x0 = np.ones((d,))\n",
    "\n",
    "debut = time.time()\n",
    "Results_f2=BFGS_penal(fun=f2penal, U0=x0, tol=1e-6, args=(S,1))\n",
    "tps_ecoule = time.time()-debut\n",
    "\n",
    "print('Time elapsed :',tps_ecoule, 's')\n",
    "print(\"Number of iterations :\",len(Results_f2[\"f_history\"]))\n",
    "print(\"Minimum point :\",Results_f2['minimum'])\n",
    "print(\"Minimal value of f2 :\",Results_f2['f_minimum'])\n",
    "        \n",
    "plt.plot(range(len(Results_f2[\"f_history\"])),Results_f2[\"f_history\"])\n",
    "plt.title(\"Evolution of f2 during optimization\")\n",
    "plt.show()"
   ]
  },
  {
   "cell_type": "markdown",
   "metadata": {},
   "source": [
    "## Vérification SQP vs Penalisation"
   ]
  },
  {
   "cell_type": "markdown",
   "metadata": {},
   "source": [
    "#### Vérification pour f1"
   ]
  },
  {
   "cell_type": "code",
   "execution_count": 18,
   "metadata": {},
   "outputs": [
    {
     "name": "stdout",
     "output_type": "stream",
     "text": [
      "Methode SQP\n",
      "\t    Minimum point : [1.08020986e-15 1.26984963e-01 2.70234387e-15 1.94536212e-02\n",
      " 0.00000000e+00]\n",
      "\t    Minimum value of f1 : -0.13853161423986765\n",
      "\n",
      "\n",
      "Methode Penalisation\n",
      "\t    Minimum point : [-3.53161469e-08  1.26885928e-01 -2.47327616e-07  1.94103685e-02\n",
      " -2.06874547e-08]\n",
      "\t    Minimum value of f1 : -0.13853243975221347\n"
     ]
    }
   ],
   "source": [
    "print(\"Methode SQP\")\n",
    "print(\"\\t\",\"  \",\"Minimum point :\",SQP1.x)\n",
    "print(\"\\t\",\"  \",\"Minimum value of f1 :\",SQP1.fun)\n",
    "print(\"\\n\")\n",
    "print(\"Methode Penalisation\")\n",
    "print(\"\\t\",\"  \",\"Minimum point :\",Results_f1['minimum'])\n",
    "print(\"\\t\",\"  \",\"Minimum value of f1 :\",Results_f1['f_minimum'])"
   ]
  },
  {
   "cell_type": "markdown",
   "metadata": {},
   "source": [
    "#### Vérification pour f2"
   ]
  },
  {
   "cell_type": "code",
   "execution_count": 19,
   "metadata": {},
   "outputs": [
    {
     "name": "stdout",
     "output_type": "stream",
     "text": [
      "Methode SQP\n",
      "\t    Minimum point : [1.72929872e-16 2.17964615e-15 5.95736056e-16 0.00000000e+00\n",
      " 2.77555756e-17]\n",
      "\t    Minimum value of f2 : 2.976067656614975e-15\n",
      "\n",
      "\n",
      "\t Methode Penalisation\n",
      "\t    Minimum point : [-2.45870177e-07 -2.45866973e-07 -2.45864400e-07 -2.45865000e-07\n",
      " -2.45865302e-07]\n",
      "\t    Minimum value of f2 : -5.95457479883209e-07\n"
     ]
    }
   ],
   "source": [
    "print(\"Methode SQP\")\n",
    "print(\"\\t\",\"  \",\"Minimum point :\",SQP2.x)\n",
    "print(\"\\t\",\"  \",\"Minimum value of f2 :\",SQP2.fun)\n",
    "print(\"\\n\")\n",
    "print(\"\\t\",\"Methode Penalisation\")\n",
    "print(\"\\t\",\"  \",\"Minimum point :\",Results_f2['minimum'])\n",
    "print(\"\\t\",\"  \",\"Minimum value of f2 :\",Results_f2['f_minimum'])"
   ]
  },
  {
   "cell_type": "markdown",
   "metadata": {},
   "source": [
    "## Méthodes duales pour l'optimisation sous contraintes"
   ]
  },
  {
   "cell_type": "markdown",
   "metadata": {},
   "source": [
    "##### Définition du Lagrangien"
   ]
  },
  {
   "cell_type": "code",
   "execution_count": 20,
   "metadata": {},
   "outputs": [],
   "source": [
    "def Lagrangien_f(x, lambd, f, args):\n",
    "    \"\"\"\n",
    "    Description\n",
    "    -----------\n",
    "    \n",
    "    Construction du Lagrangien de f pour Uad=[0,1]^5\n",
    "    \n",
    "    \"\"\"\n",
    "    \n",
    "    x_bis=np.array(list((np.array(x)-1))+list(-np.array(x)))\n",
    "    \n",
    "    return f(x, *args)+ np.dot(x_bis,lambd)\n"
   ]
  },
  {
   "cell_type": "markdown",
   "metadata": {},
   "source": [
    "##### Définition de la fonction pour l'algorithme Uzawa"
   ]
  },
  {
   "cell_type": "code",
   "execution_count": 21,
   "metadata": {},
   "outputs": [],
   "source": [
    "def uzawa(f,args,lambda0,rho=0.1,tol=1e-6):\n",
    "    \n",
    "    itermax=10000\n",
    "    it=0    \n",
    "    converged=False\n",
    "    points_history=[]\n",
    "    L_history=[]\n",
    "    \n",
    "    x0 = np.ones((5,))\n",
    "    \n",
    "    xn = x0\n",
    "    lambdan=lambda0\n",
    "    rhon=rho\n",
    "    \n",
    "    points_history+=[(xn,lambdan)]\n",
    "    L_history+=[Lagrangien_f(xn,lambdan,f,args)]\n",
    "   \n",
    "    while (~converged & (it < itermax)):\n",
    "        it=it+1\n",
    "\n",
    "        BFGS=minimize(fun=Lagrangien_f, x0=xn, args=(lambdan,f,args), method='BFGS', tol=1e-6)\n",
    "        xnp1=BFGS.x\n",
    "        lambdanp1=lambdan + rhon*np.array(list((np.array(xn)-1))+list(-np.array(xn)))\n",
    "        lambdanp1=np.array([max(0,lambdai) for lambdai in lambdanp1])\n",
    "        \n",
    "        points_history+=[(xnp1,lambdanp1)]\n",
    "        L_history+=[Lagrangien_f(xnp1,lambdanp1,f,args)]\n",
    "        \n",
    "        if abs(Lagrangien_f(xnp1,lambdanp1,f,args)-Lagrangien_f(xn,lambdan,f,args))<tol:\n",
    "            converged=True\n",
    "        \n",
    "        xn=xnp1\n",
    "        lambdan=lambdanp1\n",
    "        \n",
    "\n",
    "    Results = {\n",
    "            'initial_x':x0,\n",
    "            'initial_lambda':lambda0,\n",
    "            'x_saddle':xnp1,\n",
    "            'lambda_saddle':lambdanp1,\n",
    "            'iterations':it,\n",
    "            'converged':converged,\n",
    "            'points_history':points_history,\n",
    "            'L_history':L_history\n",
    "            }\n",
    "    return Results"
   ]
  },
  {
   "cell_type": "markdown",
   "metadata": {},
   "source": [
    "##### Application de l'algorithme d'Uzawa"
   ]
  },
  {
   "cell_type": "code",
   "execution_count": 22,
   "metadata": {},
   "outputs": [
    {
     "name": "stdout",
     "output_type": "stream",
     "text": [
      "Time elapsed : 11.699950218200684 s\n",
      "Number of iterations : 7205\n",
      "Saddle point x : [ 4.78936858e-08  1.26885857e-01 -6.09056875e-08  1.94100534e-02\n",
      " -4.47687570e-08]\n",
      "Saddle point lambda : [0.         0.         0.         0.         0.         0.56542115\n",
      " 0.         4.86743829 0.         0.26860148]\n"
     ]
    },
    {
     "data": {
      "image/png": "[encoded data removed]",
      "text/plain": [
       "<Figure size 432x288 with 1 Axes>"
      ]
     },
     "metadata": {
      "needs_background": "light"
     },
     "output_type": "display_data"
    },
    {
     "name": "stdout",
     "output_type": "stream",
     "text": [
      "Value of f at the saddle point x : -0.1385320189675082\n"
     ]
    }
   ],
   "source": [
    "A,B,S = definition_constantes()\n",
    "lambda0=np.ones((10,))\n",
    "\n",
    "debut = time.time()\n",
    "UzawaResults=uzawa(f1,(B,S),lambda0,tol=1e-15)\n",
    "tps_ecoule = time.time()-debut\n",
    "\n",
    "print('Time elapsed :',tps_ecoule, 's')\n",
    "print(\"Number of iterations :\",UzawaResults[\"iterations\"])\n",
    "print(\"Saddle point x :\",UzawaResults['x_saddle'])\n",
    "print(\"Saddle point lambda :\",UzawaResults['lambda_saddle'])\n",
    "        \n",
    "plt.plot(UzawaResults[\"L_history\"])\n",
    "plt.title(\"Evolution of f during optimization\")\n",
    "plt.show()\n",
    "\n",
    "print(\"Value of f at the saddle point x :\",f1(UzawaResults['x_saddle'],B,S))"
   ]
  },
  {
   "cell_type": "markdown",
   "metadata": {},
   "source": [
    "# Optimisation non convexe"
   ]
  },
  {
   "cell_type": "code",
   "execution_count": 23,
   "metadata": {},
   "outputs": [],
   "source": [
    "def f3(U,B,S):\n",
    "    return f1(U,B,S) + 10*np.sin(2*f1(U,B,S))"
   ]
  },
  {
   "cell_type": "markdown",
   "metadata": {},
   "source": [
    "### Optimisation classique BFGS"
   ]
  },
  {
   "cell_type": "code",
   "execution_count": 24,
   "metadata": {},
   "outputs": [
    {
     "name": "stdout",
     "output_type": "stream",
     "text": [
      "Optimization terminated successfully.\n",
      "\t x0 initial : [-1.28807649 -0.24774739 -0.14136966  0.1684979  -1.5151203 ]\n",
      "\t Number of iterations : 5\n",
      "\t Time elapsed : 0.011664867401123047 s\n",
      "\t Minimum point : [-1.28399512 -0.24717859 -0.14783614  0.16744926 -1.5185395 ]\n",
      "\t Minimum value of f3 : 8.0516551526165\n",
      "\n",
      "\n",
      "Desired error not necessarily achieved due to precision loss.\n",
      "\t x0 initial : [-2.15807321 -0.72896832  0.58848785 -0.7379661   0.13320943]\n",
      "\t Number of iterations : 2\n",
      "\t Time elapsed : 0.027060985565185547 s\n",
      "\t Minimum point : [-2.18824638 -0.73008984  0.61814799 -0.74682262  0.1527857 ]\n",
      "\t Minimum value of f3 : 89.73306415359059\n",
      "\n",
      "\n",
      "Desired error not necessarily achieved due to precision loss.\n",
      "\t x0 initial : [-0.08535407  0.70617743 -0.91616772 -0.86457625 -0.87275874]\n",
      "\t Number of iterations : 7\n",
      "\t Time elapsed : 0.04472088813781738 s\n",
      "\t Minimum point : [-0.04727416  0.69785226 -0.95291211 -0.84222123 -0.89851317]\n",
      "\t Minimum value of f3 : 67.74191558018744\n",
      "\n",
      "\n",
      "Optimization terminated successfully.\n",
      "\t x0 initial : [-1.11544072  0.23810988  0.56245633  0.06691851 -1.25474694]\n",
      "\t Number of iterations : 4\n",
      "\t Time elapsed : 0.010445833206176758 s\n",
      "\t Minimum point : [-0.90929538  0.27075652  0.2734441   0.12174002 -1.37032532]\n",
      "\t Minimum value of f3 : -4.514715462338662\n",
      "\n",
      "\n",
      "Optimization terminated successfully.\n",
      "\t x0 initial : [-0.95955151  2.55549278 -0.39829863  0.47309329 -0.45322359]\n",
      "\t Number of iterations : 2\n",
      "\t Time elapsed : 0.013775825500488281 s\n",
      "\t Minimum point : [-0.85764097  2.27712041 -0.57703062  0.39695188 -0.68707877]\n",
      "\t Minimum value of f3 : 11.193247805609143\n",
      "\n",
      "\n"
     ]
    }
   ],
   "source": [
    "A,B,S = definition_constantes()\n",
    "\n",
    "for i in range(5):\n",
    "    x0=np.random.randn(5, )\n",
    "\n",
    "    debut = time.time()\n",
    "    BFGS_f3=minimize(fun=f3, x0=x0, args=(B,S), method='BFGS', tol=1e-2) \n",
    "    tps_ecoule = time.time()-debut\n",
    "\n",
    "    print(BFGS_f3.message)\n",
    "    print(\"\\t\",\"x0 initial :\",x0)\n",
    "    print(\"\\t\",\"Number of iterations :\",BFGS_f3.nit)\n",
    "    print(\"\\t\",\"Time elapsed :\",tps_ecoule,\"s\")\n",
    "    print(\"\\t\",\"Minimum point :\",BFGS_f3.x)\n",
    "    print(\"\\t\",\"Minimum value of f3 :\",BFGS_f3.fun)\n",
    "    print(\"\\n\")"
   ]
  },
  {
   "cell_type": "markdown",
   "metadata": {},
   "source": [
    "### Recuit simulé"
   ]
  },
  {
   "cell_type": "code",
   "execution_count": 25,
   "metadata": {},
   "outputs": [
    {
     "name": "stdout",
     "output_type": "stream",
     "text": [
      "requested number of basinhopping iterations completed successfully\n",
      "\t x0 initial : [-0.01740308 -0.03412544 -0.39545578 -0.32214095 -1.08212898]\n",
      "\t Number of iterations : 100\n",
      "\t Time elapsed : 0.3637392520904541 s\n",
      "\t Minimum point : [-0.69603132  0.15793133 -0.61407082  0.49414151 -0.05345797]\n",
      "\t Minimal value of f3 : -1.836962311965249\n",
      "\n",
      "\n",
      "requested number of basinhopping iterations completed successfully\n",
      "\t x0 initial : [ 0.1974496   0.15404164 -0.36485857 -0.78427746 -1.43531258]\n",
      "\t Number of iterations : 100\n",
      "\t Time elapsed : 0.361494779586792 s\n",
      "\t Minimum point : [-0.69603134  0.15793132 -0.61407082  0.49414153 -0.05345799]\n",
      "\t Minimal value of f3 : -1.8369623119652472\n",
      "\n",
      "\n",
      "requested number of basinhopping iterations completed successfully\n",
      "\t x0 initial : [ 0.30910247  0.46027634 -0.10099057  0.63788587  0.22179809]\n",
      "\t Number of iterations : 100\n",
      "\t Time elapsed : 0.33272504806518555 s\n",
      "\t Minimum point : [-0.69603131  0.1579313  -0.61407084  0.49414151 -0.05345793]\n",
      "\t Minimal value of f3 : -1.836962311965248\n",
      "\n",
      "\n",
      "requested number of basinhopping iterations completed successfully\n",
      "\t x0 initial : [ 0.17757494 -0.97977402 -0.00374493 -1.06147928 -1.33859271]\n",
      "\t Number of iterations : 100\n",
      "\t Time elapsed : 0.3312540054321289 s\n",
      "\t Minimum point : [-0.69603132  0.15793133 -0.61407082  0.49414151 -0.05345798]\n",
      "\t Minimal value of f3 : -1.8369623119652494\n",
      "\n",
      "\n",
      "requested number of basinhopping iterations completed successfully\n",
      "\t x0 initial : [-0.50792633 -0.96575222 -0.2939674  -0.67644084  2.59446031]\n",
      "\t Number of iterations : 100\n",
      "\t Time elapsed : 0.3341829776763916 s\n",
      "\t Minimum point : [-0.69603132  0.15793134 -0.61407081  0.49414151 -0.05345799]\n",
      "\t Minimal value of f3 : -1.8369623119652472\n",
      "\n",
      "\n"
     ]
    }
   ],
   "source": [
    "from scipy.optimize import basinhopping\n",
    "\n",
    "A,B,S = definition_constantes()\n",
    "d=B.shape[0]\n",
    "x0 = np.ones((d,))\n",
    "\n",
    "for i in range(5):\n",
    "    x0=np.random.randn(5, )\n",
    "    debut = time.time()\n",
    "    RecSim=basinhopping(func=f1, x0=x0, minimizer_kwargs={\"args\":(B,S)})\n",
    "    tps_ecoule = time.time()-debut\n",
    "\n",
    "    print(RecSim.message[0])\n",
    "    print(\"\\t\",\"x0 initial :\",x0)\n",
    "    print(\"\\t\",\"Number of iterations :\",RecSim.nit)\n",
    "    print(\"\\t\",\"Time elapsed :\",tps_ecoule,\"s\")\n",
    "    print(\"\\t\",\"Minimum point :\",RecSim.x)\n",
    "    print(\"\\t\",\"Minimal value of f3 :\",RecSim.fun)\n",
    "    print(\"\\n\")"
   ]
  },
  {
   "cell_type": "markdown",
   "metadata": {},
   "source": [
    "# Synthèse d'un filtre à réponse impulsionnelle finie"
   ]
  },
  {
   "cell_type": "markdown",
   "metadata": {},
   "source": [
    "#### Problem Minimax "
   ]
  },
  {
   "cell_type": "markdown",
   "metadata": {},
   "source": [
    "\\begin{equation}\n",
    "H_0(\\nu) = 1 \\quad if \\quad \\nu \\in [0,0.1] \\\\\n",
    "H_0(\\nu) = 0 \\quad if \\quad \\nu \\in [0.15,0.5]\n",
    "\\end{equation}\n"
   ]
  },
  {
   "cell_type": "code",
   "execution_count": 26,
   "metadata": {},
   "outputs": [],
   "source": [
    "def H0(nu):\n",
    "    if nu>=0 and nu<=0.1:\n",
    "        return 1\n",
    "    if nu>=0.15 and nu<=0.5:\n",
    "        return 0\n",
    "\n",
    "def H(nu,h):\n",
    "    return sum([np.cos(2*np.pi*nu*i)*hi for i,hi in enumerate(h)])\n",
    "\n",
    "def J(h,p):\n",
    "    splits=np.array(list(np.linspace(0,0.1,p))+list(np.linspace(0.15,0.5,int(8*p/3))))   \n",
    "    return np.max(np.abs(np.array(list(map(H0,splits)))-H(splits,h)))"
   ]
  },
  {
   "cell_type": "code",
   "execution_count": 27,
   "metadata": {},
   "outputs": [
    {
     "name": "stdout",
     "output_type": "stream",
     "text": [
      "Desired error not necessarily achieved due to precision loss.\n",
      "\t Number of iterations : 69\n",
      "\t Time elapsed : 2.899893045425415 s\n",
      "\t Minimal value of J : 0.07227715282991853\n",
      "\n",
      "\n"
     ]
    }
   ],
   "source": [
    "h0=np.random.randn(30, )\n",
    "\n",
    "p=15\n",
    "\n",
    "debut = time.time()\n",
    "BFGS_J=minimize(fun=J, x0=h0, args=(p), method='BFGS', tol=1e-10) \n",
    "tps_ecoule = time.time()-debut\n",
    "\n",
    "print(BFGS_J.message)\n",
    "print(\"\\t\",\"Number of iterations :\",BFGS_J.nit)\n",
    "print(\"\\t\",\"Time elapsed :\",tps_ecoule,\"s\")\n",
    "print(\"\\t\",\"Minimal value of J :\",BFGS_J.fun)\n",
    "print(\"\\n\")"
   ]
  },
  {
   "cell_type": "markdown",
   "metadata": {},
   "source": [
    "#### Transformation du problème d'optimisation minimax en problème d'optimisation continue "
   ]
  },
  {
   "cell_type": "markdown",
   "metadata": {},
   "source": [
    "On va reformuler le problème précédent comme un problème d'optimisation linéaire:\n",
    "\n",
    "\n",
    "$$ min\\left(z \\right) $$ \n",
    "\n",
    "\n",
    "sous les contraintes:\n",
    "$$\n",
    "\\forall j\n",
    "\\begin{cases}\n",
    "H_0\\left(\\mu_j \\right) - H\\left(\\mu_j \\right) &\\le z \\\\\n",
    "H_0\\left(\\mu_j \\right) - H\\left(\\mu_j \\right) &\\ge -z\n",
    "\\end{cases}\n",
    "$$\n",
    "qu'on peut reformuler:\n",
    "$$\n",
    "\\forall j\n",
    "\\begin{cases}\n",
    "H_0\\left(\\mu_j \\right) - H\\left(\\mu_j \\right) - z &\\le 0 \\\\\n",
    "-H_0\\left(\\mu_j \\right) + H\\left(\\mu_j \\right) - z &\\le 0\n",
    "\\end{cases}\n",
    "$$"
   ]
  }
 ],
 "metadata": {
  "kernelspec": {
   "display_name": "Python 3",
   "language": "python",
   "name": "python3"
  },
  "language_info": {
   "codemirror_mode": {
    "name": "ipython",
    "version": 3
   },
   "file_extension": ".py",
   "mimetype": "text/x-python",
   "name": "python",
   "nbconvert_exporter": "python",
   "pygments_lexer": "ipython3",
   "version": "3.6.6"
  }
 },
 "nbformat": 4,
 "nbformat_minor": 2
}
